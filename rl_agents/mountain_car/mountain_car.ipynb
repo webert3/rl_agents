{
 "cells": [
  {
   "cell_type": "markdown",
   "metadata": {},
   "source": [
    "### Mountain Car Task with REINFORCE (Monte Carlo Polcy Gradient Method)\n",
    "This corresponds to the algorithm described in Chapter 13.4 of [_Reinforcement Learning: An Introduction_](http://incompleteideas.net/book/the-book-2nd.html), by Sutton and Barto.\n",
    "\n",
    "For this agent we parameterize our policy using a neural network with one hidden layer and update our weights using stochasstic gradient ascent to maximize return. For the implementation details of the agent see "
   ]
  },
  {
   "cell_type": "code",
   "execution_count": 24,
   "metadata": {},
   "outputs": [],
   "source": [
    "import numpy as np\n",
    "\n",
    "# First time trying this library, but it looks awesome. See: https://github.com/google/jax\n",
    "from jax import grad, jit, vmap\n",
    "import gym\n",
    "from tqdm import tqdm"
   ]
  },
  {
   "cell_type": "code",
   "execution_count": 25,
   "metadata": {},
   "outputs": [
    {
     "name": "stdout",
     "output_type": "stream",
     "text": [
      "2.0\n"
     ]
    }
   ],
   "source": [
    "def two_x(x):\n",
    "    return 2*x\n",
    "\n",
    "grad_two_x = grad(two_x)\n",
    "print(grad_two_x(float(np.random.randint(5))))"
   ]
  },
  {
   "cell_type": "code",
   "execution_count": null,
   "metadata": {},
   "outputs": [],
   "source": []
  },
  {
   "cell_type": "code",
   "execution_count": null,
   "metadata": {},
   "outputs": [],
   "source": [
    "### Analysis\n",
    "TODO: Plot the total reward per episode for different learning rates"
   ]
  }
 ],
 "metadata": {
  "kernelspec": {
   "display_name": "mountain_car",
   "language": "python",
   "name": "mountain_car"
  },
  "language_info": {
   "codemirror_mode": {
    "name": "ipython",
    "version": 3
   },
   "file_extension": ".py",
   "mimetype": "text/x-python",
   "name": "python",
   "nbconvert_exporter": "python",
   "pygments_lexer": "ipython3",
   "version": "3.7.7"
  }
 },
 "nbformat": 4,
 "nbformat_minor": 4
}
